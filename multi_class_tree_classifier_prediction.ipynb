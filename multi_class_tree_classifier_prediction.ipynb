{
 "cells": [
  {
   "cell_type": "code",
   "execution_count": 1,
   "id": "b1d87331",
   "metadata": {},
   "outputs": [],
   "source": [
    "import pandas as pd\n",
    "import tensorflow as tf\n",
    "import numpy as np\n",
    "\n",
    "# Step 1: Load the data from a CSV file\n",
    "data = pd.read_csv('sample_classifier.csv')\n",
    "\n"
   ]
  },
  {
   "cell_type": "code",
   "execution_count": 2,
   "id": "37d4e19f",
   "metadata": {},
   "outputs": [
    {
     "name": "stdout",
     "output_type": "stream",
     "text": [
      "Species                                0\n",
      "L/W ratio                              0\n",
      "Leaf Height Including Petiole(cm)\\n    0\n",
      "Top Leaf Angle                         0\n",
      "Base Leaf-Petiole Angle                0\n",
      "dtype: int64\n",
      "              Species  L/W ratio  Leaf Height Including Petiole(cm)\\n  \\\n",
      "0     Bridelia retusa       2.83                                 16.2   \n",
      "1     Psidium guajava       1.71                                 12.3   \n",
      "2  Capparis zeylanica       1.91                                 11.6   \n",
      "3     Bridelia retusa       2.41                                 15.3   \n",
      "4     Psidium guajava       1.44                                 11.0   \n",
      "\n",
      "   Top Leaf Angle  Base Leaf-Petiole Angle  \n",
      "0              76                      114  \n",
      "1             114                      127  \n",
      "2              86                      108  \n",
      "3              87                      136  \n",
      "4             125                      137  \n"
     ]
    }
   ],
   "source": [
    "# Step 2: Replace missing values with zeros\n",
    "def replace_missing_with_zeros(data):\n",
    "    \"\"\"\n",
    "    Replace missing values with zeros in the dataset.\n",
    "\n",
    "    Parameters:\n",
    "    - data: pandas DataFrame, input dataset with missing values\n",
    "\n",
    "    Returns:\n",
    "    - data_filled: pandas DataFrame, dataset with missing values replaced by zeros\n",
    "    \"\"\"\n",
    "    data = data.fillna(0)\n",
    "    return data\n",
    "\n",
    "data = replace_missing_with_zeros(data)\n",
    "\n",
    "# Check for missing values after replacement\n",
    "print(data.isnull().sum())\n",
    "\n",
    "# Explore the data\n",
    "print(data.head())\n",
    "\n"
   ]
  },
  {
   "cell_type": "code",
   "execution_count": 3,
   "id": "7342e95d",
   "metadata": {},
   "outputs": [],
   "source": [
    "# Separate features and target\n",
    "features = data.drop('Species', axis=1)\n",
    "labels = data['Species'].to_numpy()  "
   ]
  },
  {
   "cell_type": "code",
   "execution_count": 4,
   "id": "58dbe42c",
   "metadata": {},
   "outputs": [],
   "source": [
    "from sklearn.preprocessing import StandardScaler\n",
    "\n",
    "# Standardize features (assuming numerical features)\n",
    "scaler = StandardScaler()\n",
    "features_normalized = scaler.fit_transform(features)"
   ]
  },
  {
   "cell_type": "code",
   "execution_count": 6,
   "id": "9896bc4e",
   "metadata": {},
   "outputs": [],
   "source": [
    "from sklearn.preprocessing import LabelEncoder\n",
    "from keras.utils import to_categorical\n",
    "from sklearn.model_selection import KFold\n",
    "\n",
    "# Assuming labels is a numpy array containing string labels\n",
    "label_onehot = LabelEncoder()\n",
    "integer_labels = label_onehot.fit_transform(labels)\n",
    "\n",
    "# One-hot encode the integer labels\n",
    "one_hot_labels = to_categorical(integer_labels)\n",
    "\n",
    "\n",
    "# Assuming you have features_normalized and one_hot_labels already defined\n",
    "splitter = KFold(n_splits=5, shuffle=True, random_state=42)\n",
    "\n",
    "# Looping through each fold\n",
    "for fold_number, (train_index, test_index) in enumerate(splitter.split(features_normalized), start=1):\n",
    "    # Extracting data for training and testing in this fold\n",
    "    train_features, test_features = features_normalized[train_index], features_normalized[test_index]\n",
    "    train_labels, test_labels = one_hot_labels[train_index], one_hot_labels[test_index]  "
   ]
  },
  {
   "cell_type": "code",
   "execution_count": 7,
   "id": "0e95937f",
   "metadata": {},
   "outputs": [],
   "source": [
    "from keras.models import load_model\n",
    "\n",
    "# Load the saved model\n",
    "model = load_model('final_model.h5')\n"
   ]
  },
  {
   "cell_type": "code",
   "execution_count": 8,
   "id": "cf9d5a33",
   "metadata": {},
   "outputs": [
    {
     "name": "stdout",
     "output_type": "stream",
     "text": [
      "1/1 [==============================] - 0s 109ms/step\n",
      "Test Set Classification Report:\n",
      "              precision    recall  f1-score   support\n",
      "\n",
      "           0       1.00      1.00      1.00         4\n",
      "           1       1.00      1.00      1.00         8\n",
      "           2       1.00      1.00      1.00         5\n",
      "\n",
      "    accuracy                           1.00        17\n",
      "   macro avg       1.00      1.00      1.00        17\n",
      "weighted avg       1.00      1.00      1.00        17\n",
      "\n"
     ]
    }
   ],
   "source": [
    "from sklearn.metrics import classification_report\n",
    "\n",
    "# Generate predictions for the current fold's test data\n",
    "predictions = model.predict(test_features)\n",
    "\n",
    "# Convert one-hot encoded labels to class labels\n",
    "class_labels = np.argmax(test_labels, axis=1)\n",
    "\n",
    "# Convert predicted probabilities to class labels\n",
    "predictions_classes = np.argmax(predictions, axis=1)\n",
    "\n",
    "# Generate classification report \n",
    "report = classification_report(class_labels, predictions_classes)\n",
    "\n",
    "\n",
    "# Print the classification report \n",
    "print(\"Test Set Classification Report:\")\n",
    "print(report)\n"
   ]
  },
  {
   "cell_type": "code",
   "execution_count": 10,
   "id": "33c1a6bb",
   "metadata": {},
   "outputs": [],
   "source": [
    "class_names = [\"Bridelia retusa\", \"Psidium guajava\", \"Capparis zeylanica\"]\n"
   ]
  },
  {
   "cell_type": "code",
   "execution_count": 11,
   "id": "87a57b67",
   "metadata": {},
   "outputs": [
    {
     "data": {
      "image/png": "[encoded data removed]",
      "text/plain": [
       "<Figure size 700x500 with 2 Axes>"
      ]
     },
     "metadata": {},
     "output_type": "display_data"
    }
   ],
   "source": [
    "from sklearn.metrics import confusion_matrix\n",
    "import matplotlib.pyplot as plt\n",
    "import seaborn as sns\n",
    "\n",
    "\n",
    "# Generate confusion matrix\n",
    "matrix = confusion_matrix(class_labels, predictions_classes)\n",
    "\n",
    "# Plot confusion matrix with green boxes\n",
    "plt.figure(figsize=(7,5))\n",
    "sns.heatmap(matrix, annot=True, fmt=\"d\", cmap=\"Greens\", xticklabels=class_names, yticklabels=class_names)\n",
    "plt.xlabel('Predicted Label')\n",
    "plt.ylabel('True Label')\n",
    "plt.title('Confusion Matrix')\n",
    "plt.show()\n"
   ]
  },
  {
   "cell_type": "code",
   "execution_count": 12,
   "id": "a9a60321",
   "metadata": {},
   "outputs": [
    {
     "name": "stdout",
     "output_type": "stream",
     "text": [
      "Sample 1: Max Probability = 0.9973, Class Label = 3, Class Name = Capparis zeylanica\n",
      "Sample 2: Max Probability = 0.9981, Class Label = 2, Class Name = Psidium guajava\n",
      "Sample 3: Max Probability = 0.9993, Class Label = 2, Class Name = Psidium guajava\n",
      "Sample 4: Max Probability = 0.9999, Class Label = 2, Class Name = Psidium guajava\n",
      "Sample 5: Max Probability = 0.9994, Class Label = 1, Class Name = Bridelia retusa\n",
      "Sample 6: Max Probability = 0.9484, Class Label = 2, Class Name = Psidium guajava\n",
      "Sample 7: Max Probability = 1.0000, Class Label = 2, Class Name = Psidium guajava\n",
      "Sample 8: Max Probability = 0.9933, Class Label = 3, Class Name = Capparis zeylanica\n",
      "Sample 9: Max Probability = 0.9998, Class Label = 3, Class Name = Capparis zeylanica\n",
      "Sample 10: Max Probability = 0.9983, Class Label = 2, Class Name = Psidium guajava\n",
      "Sample 11: Max Probability = 0.9999, Class Label = 3, Class Name = Capparis zeylanica\n",
      "Sample 12: Max Probability = 0.9980, Class Label = 3, Class Name = Capparis zeylanica\n",
      "Sample 13: Max Probability = 0.9993, Class Label = 1, Class Name = Bridelia retusa\n",
      "Sample 14: Max Probability = 0.9996, Class Label = 1, Class Name = Bridelia retusa\n",
      "Sample 15: Max Probability = 0.9981, Class Label = 2, Class Name = Psidium guajava\n",
      "Sample 16: Max Probability = 0.9785, Class Label = 2, Class Name = Psidium guajava\n",
      "Sample 17: Max Probability = 0.9995, Class Label = 1, Class Name = Bridelia retusa\n"
     ]
    }
   ],
   "source": [
    "# Print the predicted classes with the maximum probability\n",
    "for i, prediction in enumerate(predictions):\n",
    "    max_probability = np.max(prediction)  # Find the max probability value\n",
    "    # Find all indexes with the max probability\n",
    "    max_indexes = np.flatnonzero(prediction == max_probability)\n",
    "    # Loop through all max indexes to print each one\n",
    "    for class_index in max_indexes:\n",
    "        class_label = class_index + 1  # Adjust class index if labels are 1-based\n",
    "        class_name = class_names[class_index]  # Get the class name using the index\n",
    "        print(f\"Sample {i+1}: Max Probability = {max_probability:.4f}, Class Label = {class_label}, Class Name = {class_name}\")"
   ]
  },
  {
   "cell_type": "code",
   "execution_count": 13,
   "id": "cf122a82",
   "metadata": {},
   "outputs": [
    {
     "name": "stdout",
     "output_type": "stream",
     "text": [
      "Correctly classified examples:\n",
      "[-0.17031526 -0.36409568 -0.71908621 -0.8590054 ]\n",
      "[-0.07474112 -0.48122043 -0.23054672 -1.41938274]\n",
      "[ 0.08773491 -0.40313726 -0.78015364 -1.57949055]\n",
      "[-0.29456163 -0.91067786  1.05186943 -2.05981399]\n",
      "[-0.08429854 -1.18396896 -1.02442339 -1.49943665]\n",
      "[-0.1989875  -0.71546994 -0.78015364 -0.61884368]\n",
      "[-0.17031526 -0.36409568 -0.71908621 -0.8590054 ]\n",
      "[-1.99578124  0.29961126 -1.08549082 -0.69889759]\n",
      "\n",
      "Incorrectly classified examples:\n",
      "[-0.36146353 -0.09080458  0.99080199  0.66201882]\n",
      "[ 0.44135921  0.72906869 -0.96335595  1.30245007]\n",
      "[-0.1989875  -0.24697092  0.68546481  0.3418032 ]\n",
      "[-0.50482473 -0.52026202  1.1740043   0.90218054]\n",
      "[-0.57172663 -0.63738677  1.29613917  0.98223444]\n",
      "[-0.37102094 -0.09080458  1.05186943  0.66201882]\n",
      "[ 0.42224438  1.08044296 -0.23054672  0.90218054]\n",
      "[ 0.70896679  1.43181722 -1.32976056 -0.37868196]\n",
      "[ 0.10684974  0.65098552 -1.02442339  1.7027196 ]\n"
     ]
    }
   ],
   "source": [
    "# Qualitative assessment\n",
    "\n",
    "# Correct classifications\n",
    "correct_indices = np.where(predictions_classes == class_label)[0]\n",
    "correct_examples = test_features[correct_indices]  # Displaying only first 5 correct examples\n",
    "\n",
    "print(\"Correctly classified examples:\")\n",
    "for example in correct_examples:\n",
    "    print(f\"{example}\")\n",
    "\n",
    "# Incorrect classifications\n",
    "incorrect_indices = np.where(predictions_classes != class_label)[0]\n",
    "incorrect_examples = test_features[incorrect_indices]  # Displaying only first 5 incorrect examples\n",
    "\n",
    "print(\"\\nIncorrectly classified examples:\")\n",
    "for example in incorrect_examples:\n",
    "    print(f\"{example}\")\n"
   ]
  }
 ],
 "metadata": {
  "kernelspec": {
   "display_name": "Python 3 (ipykernel)",
   "language": "python",
   "name": "python3"
  },
  "language_info": {
   "codemirror_mode": {
    "name": "ipython",
    "version": 3
   },
   "file_extension": ".py",
   "mimetype": "text/x-python",
   "name": "python",
   "nbconvert_exporter": "python",
   "pygments_lexer": "ipython3",
   "version": "3.7.1"
  }
 },
 "nbformat": 4,
 "nbformat_minor": 5
}
